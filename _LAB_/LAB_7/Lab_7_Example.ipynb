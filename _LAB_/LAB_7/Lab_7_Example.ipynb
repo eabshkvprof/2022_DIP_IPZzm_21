{
 "cells": [
  {
   "cell_type": "markdown",
   "metadata": {},
   "source": [
    "# ПРИКЛАД ВИКОНАННЯ ЛАБОРАТОРНОЇ РОБОТИ № 7. МОРФОЛОГІЧНІ ПЕРЕТВОРЕННЯ\n",
    "# Перетворення дилатації.  2020  для ІПЗ 16 "
   ]
  },
  {
   "cell_type": "code",
   "execution_count": null,
   "metadata": {},
   "outputs": [],
   "source": [
    "## Завантаження пакетів\n",
    "import numpy as np\n",
    "import matplotlib.pyplot as plt\n",
    "import skimage.io as io\n",
    "import skimage.color as co\n",
    "plt.rcParams['font.size'] = 18"
   ]
  },
  {
   "cell_type": "code",
   "execution_count": null,
   "metadata": {},
   "outputs": [],
   "source": [
    "## Вводим изображение\n",
    "filename = '  '\n",
    "Original_Im = io.imread(filename)\n",
    "\n",
    "## Визначення стркутури та розміру зображення\n",
    "print ('IMAGE SHAPE', Original_Im.shape, 'IMAGE SIZE', Original_Im.size)\n",
    "## rows_num = len(test_im)\n",
    "rows_num = Original_Im.shape[0] ## кількість рядків\n",
    "clms_num = Original_Im.shape[1] ## кількість колонок\n",
    "pix_num = rows_num*clms_num ## кількість пікселів\n",
    "bins = 256 ## кількість рівнів яскравості\n",
    "print ('ROWS NUMBER', rows_num, 'CLMS NUMBER', clms_num, 'PIX NUMBER', pix_num, 'Bins',bins)\n",
    "\n",
    "## Делаем СЕРОЕ  изображение Используем стандартную функцию\n",
    "Original_Im_Gray = co.rgb2gray(Original_Im )\n",
    "print ('GRAY SHAPE', Original_Im_Gray.shape, 'GRAY SIZE', Original_Im_Gray.size)\n",
    "max = np.max(Original_Im_Gray[ : ])\n",
    "print (type(Original_Im_Gray), max)\n",
    "\n",
    "## СЧИТАЕМ ЧЕРНЫЕ И БЕЛЫЕ ПИКСЕЛИ \n",
    "Black = 0\n",
    "White = 0\n",
    "for i in  range (rows_num):\n",
    "    for j in  range (clms_num):\n",
    "        if Original_Im_Gray [i,j] < 0.01 : Black += 1\n",
    "        if Original_Im_Gray [i,j] > 0.99 : White += 1\n",
    "print ('BLACK pixels =',Black, 'WHITE pixels =',White )                  \n",
    "\n",
    "## ВЫВОД ИСХОДНОГО И ПОЛУТНОВОГО \n",
    "fig, axes = plt.subplots(1, 2, figsize=(16, 8))\n",
    "ax = axes.ravel()\n",
    "ax[0].imshow(Original_Im)\n",
    "ax[0].set_title(\"ORIGINAL\")\n",
    "ax[1].imshow(Original_Im_Gray, cmap=plt.cm.gray)\n",
    "ax[1].set_title(\"GRAY\")\n",
    "plt.show()"
   ]
  },
  {
   "cell_type": "markdown",
   "metadata": {},
   "source": [
    "## ФОРМУЄМ BW ЗОБРАЖЕННЯ"
   ]
  },
  {
   "cell_type": "code",
   "execution_count": null,
   "metadata": {},
   "outputs": [],
   "source": [
    "# ЧЕРНО-БЕЛОЕ ступенька\n",
    "gamma = 0.3\n",
    "def bw(l):\n",
    "    if l<gamma :\n",
    "        return 0.0\n",
    "    else:\n",
    "        return 1.0\n",
    "\n",
    "Original_Im_BW  = np.zeros ((rows_num , clms_num), dtype=np.float)\n",
    "for i in range  (rows_num):\n",
    "    for j in range (clms_num):\n",
    "        Original_Im_BW[i,j] = bw (Original_Im_Gray [i,j]) \n",
    "        \n",
    "        \n",
    "## СЧИТАЕМ ЧЕРНЫЕ И БЕЛЫЕ ПИКСЕЛИ \n",
    "Black = 0\n",
    "White = 0\n",
    "for i in  range (rows_num):\n",
    "    for j in  range (clms_num):\n",
    "        if Original_Im_BW [i,j] < 0.01 : Black += 1\n",
    "        if Original_Im_BW [i,j] > 0.99 : White += 1\n",
    "print ('BLACK pixels =',Black, 'WHITE pixels =',White )                  \n",
    "\n",
    "\n",
    "fig, axes = plt.subplots(1, 2, figsize=(16, 8))\n",
    "ax = axes.ravel()\n",
    "ax[0].imshow(Original_Im_Gray, cmap=plt.cm.gray)\n",
    "ax[0].set_title(\"GRAY\")\n",
    "ax[1].imshow(Original_Im_BW, cmap=plt.cm.gray)\n",
    "ax[1].set_title(\"B & W Gamma=0.3\")\n",
    "plt.show()\n"
   ]
  },
  {
   "cell_type": "markdown",
   "metadata": {},
   "source": [
    "## ПЕРЕТВОРЕННЯ DILATE "
   ]
  },
  {
   "cell_type": "code",
   "execution_count": null,
   "metadata": {},
   "outputs": [],
   "source": [
    "B_row = 3; C_row = 1\n",
    "B_clm = 3; C_Clm = 1\n",
    "\n",
    "Erode_Im_BW  = np.zeros ((rows_num , clms_num), dtype=np.float)\n",
    "\n",
    "## ERODE\n",
    "for i in  range (1, (rows_num-C_row), 1):\n",
    "    for j in  range (1, (clms_num-C_Clm), 1):\n",
    "        B_all = 0.0\n",
    "        for l in range (B_row):\n",
    "            for k in range (B_clm):\n",
    "                # Erode: 1 олько если  все 9 = 1\n",
    "                B_all +=  Original_Im_BW [i-(C_row-l),j-(C_Clm-k)]\n",
    "                if B_all > 0.5 :\n",
    "                    Erode_Im_BW [i, j] = 1.0\n",
    "                else: \n",
    "                    Erode_Im_BW [i, j] = 0.0\n",
    "\n",
    "## СЧИТАЕМ ЧЕРНЫЕ И БЕЛЫЕ ПИКСЕЛИ \n",
    "Black = 0\n",
    "White = 0\n",
    "for i in  range (rows_num):\n",
    "    for j in  range (clms_num):\n",
    "        if Erode_Im_BW [i,j] < 0.01 : Black += 1\n",
    "        if Erode_Im_BW [i,j] > 0.99 : White += 1\n",
    "print ('BLACK pixels =',Black, 'WHITE pixels =',White )                    \n",
    "                    \n",
    "                    \n",
    "fig, axes = plt.subplots(1, 2, figsize=(16, 8))\n",
    "ax = axes.ravel()\n",
    "ax[0].imshow(Original_Im_BW, cmap=plt.cm.gray)\n",
    "ax[0].set_title(\"B & W\")\n",
    "ax[1].imshow(Erode_Im_BW, cmap=plt.cm.gray)\n",
    "ax[1].set_title(\"DILATE\")\n",
    "plt.show()                  \n",
    "\n"
   ]
  },
  {
   "cell_type": "markdown",
   "metadata": {},
   "source": [
    "## ПОРІВНЯННЯ ЗОБРАЖЕНЬ (XOR)"
   ]
  },
  {
   "cell_type": "code",
   "execution_count": null,
   "metadata": {},
   "outputs": [],
   "source": [
    "XOR_im = np.zeros ( (rows_num, clms_num, 3), dtype=np.uint8)\n",
    "for i in  range (rows_num):\n",
    "    for j in  range (clms_num):\n",
    "        if Original_Im_BW[i, j] < 0.1 and Erode_Im_BW [i, j] > 0.9 :\n",
    "            XOR_im [i, j,:] = 255\n",
    "            \n",
    "## СЧИТАЕМ ЧЕРНЫЕ И БЕЛЫЕ ПИКСЕЛИ \n",
    "Black = 0\n",
    "White = 0\n",
    "for i in  range (rows_num):\n",
    "    for j in  range (clms_num):\n",
    "        if XOR_im [i,j,0] < 10 : Black += 1\n",
    "        if XOR_im [i,j,0] > 250 : White += 1\n",
    "print ('BLACK pixels =',Black, 'WHITE pixels =',White )                    \n",
    "                  \n",
    "fig, axes = plt.subplots(1, 1, figsize=(16, 8))            \n",
    "plt.title('was BLACK now WHITE')\n",
    "plt.imshow(XOR_im)\n",
    "plt.show()"
   ]
  }
 ],
 "metadata": {
  "kernelspec": {
   "display_name": "Python 3",
   "language": "python",
   "name": "python3"
  },
  "language_info": {
   "codemirror_mode": {
    "name": "ipython",
    "version": 3
   },
   "file_extension": ".py",
   "mimetype": "text/x-python",
   "name": "python",
   "nbconvert_exporter": "python",
   "pygments_lexer": "ipython3",
   "version": "3.7.6"
  }
 },
 "nbformat": 4,
 "nbformat_minor": 4
}
